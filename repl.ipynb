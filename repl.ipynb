{
 "cells": [
  {
   "cell_type": "code",
   "execution_count": null,
   "metadata": {},
   "outputs": [],
   "source": [
    "from sklearn.metrics import mean_squared_error\n",
    "import xgboost as xgb\n",
    "import pandas as pd\n",
    "import mlflow\n",
    "\n",
    "import pickle\n",
    "import os\n",
    "\n",
    "os.environ['HADOOP_HOME'] = '/home/hdoop/hadoop'\n",
    "os.environ['ARROW_LIBHDFS_DIR'] = '/home/hdoop/hadoop/lib/native'\n",
    "os.environ['JAVA_HOME'] = '/usr/lib/jvm/java-8-openjdk-amd64'\n",
    "\n",
    "mlflow.set_tracking_uri(\"http://127.0.0.1:5000\")\n",
    "mlflow.set_experiment(\"nyc-taxi-experiment\")"
   ]
  },
  {
   "cell_type": "code",
   "execution_count": null,
   "metadata": {},
   "outputs": [],
   "source": [
    "## Get runs\n",
    "def getRuns():\n",
    "    experiments = mlflow.search_runs()\n",
    "    runs = experiments[~experiments[\"tags.mlflow.log-model.history\"].isna()]\n",
    "\n",
    "    return runs"
   ]
  },
  {
   "cell_type": "code",
   "execution_count": null,
   "metadata": {},
   "outputs": [],
   "source": [
    "## Save Model\n",
    "def saveBestModel(runs):\n",
    "    client = mlflow.tracking.MlflowClient()\n",
    "\n",
    "    best_score = runs.sort_values(\"metrics.rmse\", ascending=False)['run_id'][0]\n",
    "\n",
    "    client.download_artifacts(best_score, path=\"models_mlflow\", dst_path=\"./models/\")"
   ]
  },
  {
   "cell_type": "code",
   "execution_count": null,
   "metadata": {},
   "outputs": [],
   "source": [
    "## Load Model\n",
    "def loadModel(runs):\n",
    "    best_score = runs.sort_values(\"metrics.rmse\", ascending=False)['run_id'][0]\n",
    "\n",
    "    model_id = best_score\n",
    "    logged_model = f\"runs:/{model_id}/models_mlflow\"\n",
    "\n",
    "    xgboost_model = mlflow.xgboost.load_model(logged_model)\n",
    "\n",
    "    return xgboost_model"
   ]
  },
  {
   "cell_type": "code",
   "execution_count": null,
   "metadata": {},
   "outputs": [],
   "source": [
    "def prepareData(df_test):\n",
    "    print(len(df_test))\n",
    "\n",
    "    df_test.lpep_dropoff_datetime = pd.to_datetime(df_test.lpep_dropoff_datetime)\n",
    "    df_test.lpep_pickup_datetime = pd.to_datetime(df_test.lpep_pickup_datetime)\n",
    "\n",
    "    df_test['duration'] = df_test.lpep_dropoff_datetime - df_test.lpep_pickup_datetime\n",
    "    df_test.duration = df_test.duration.apply(lambda td: td.total_seconds() / 60)\n",
    "\n",
    "    df_test = df_test[(df_test.duration >= 1) & (df_test.duration <= 60)]\n",
    "\n",
    "    categorical = ['PULocationID', 'DOLocationID']\n",
    "    df_test[categorical] = df_test[categorical].astype(str)\n",
    "\n",
    "    df_test['PU_DO'] = df_test['PULocationID'] + '_' + df_test['DOLocationID']\n",
    "\n",
    "    categorical = ['PU_DO'] #'PULocationID', 'DOLocationID']\n",
    "    numerical = ['trip_distance']\n",
    "\n",
    "    with open('./models/preprocessor.pkl', 'rb') as f:\n",
    "        dv = pickle.load(f)\n",
    "\n",
    "    test_dicts = df_test[categorical + numerical].to_dict(orient='records')\n",
    "    \n",
    "    X_test = dv.transform(test_dicts)\n",
    "\n",
    "    target = 'duration'\n",
    "    y_test = df_test[target].values\n",
    "\n",
    "    return xgb.DMatrix(X_test), y_test, test_dicts\n",
    "\n",
    "df = pd.read_parquet(\"./data/green_tripdata_2022-02.parquet\")\n",
    "\n",
    "X_test, y_test, test_dicts = prepareData(df)"
   ]
  },
  {
   "cell_type": "code",
   "execution_count": null,
   "metadata": {},
   "outputs": [],
   "source": [
    "runs = getRuns()\n",
    "\n",
    "model = loadModel(runs)"
   ]
  },
  {
   "cell_type": "code",
   "execution_count": null,
   "metadata": {},
   "outputs": [],
   "source": [
    "y_pred = model.predict(X_test)\n",
    "rmse = mean_squared_error(y_test, y_pred, squared=False)\n",
    "rmse"
   ]
  },
  {
   "cell_type": "code",
   "execution_count": null,
   "metadata": {},
   "outputs": [],
   "source": [
    "def prepareData(pu, do, trip_distance):\n",
    "    with open('./models/preprocessor.pkl', 'rb') as f:\n",
    "        dv = pickle.load(f)\n",
    "\n",
    "    data = dv.transform({'PU_DO': str(pu) + '_' + str(do), 'trip_distance':trip_distance})\n",
    "    return xgb.DMatrix(data)"
   ]
  },
  {
   "cell_type": "code",
   "execution_count": null,
   "metadata": {},
   "outputs": [],
   "source": [
    "with open('./models/preprocessor.pkl', 'rb') as f:\n",
    "    dv = pickle.load(f)"
   ]
  },
  {
   "cell_type": "code",
   "execution_count": null,
   "metadata": {},
   "outputs": [],
   "source": [
    "test_data = dv.transform({'PU_DO': '43_238', 'trip_distance':1.16})\n",
    "test_data = xgb.DMatrix(test_data)"
   ]
  },
  {
   "cell_type": "code",
   "execution_count": 34,
   "metadata": {},
   "outputs": [],
   "source": [
    "import pandas as pd\n",
    "\n",
    "df = pd.read_parquet(\"./data/green_tripdata_2022-02.parquet\")\n",
    "df_zone = pd.read_csv(\"./data/taxi_zone_lookup.csv\")"
   ]
  },
  {
   "cell_type": "code",
   "execution_count": 41,
   "metadata": {},
   "outputs": [],
   "source": [
    "def calculateTripDistance(df, pu, do):\n",
    "    trip_distance = df[(df['PULocationID'] == pu) & (df['DOLocationID'] == do)]\n",
    "    return trip_distance['trip_distance'].mean()"
   ]
  },
  {
   "cell_type": "code",
   "execution_count": 42,
   "metadata": {},
   "outputs": [
    {
     "data": {
      "text/plain": [
       "1.2027319587628864"
      ]
     },
     "execution_count": 42,
     "metadata": {},
     "output_type": "execute_result"
    }
   ],
   "source": [
    "calculateTripDistance(43,238)"
   ]
  },
  {
   "cell_type": "code",
   "execution_count": 9,
   "metadata": {},
   "outputs": [],
   "source": [
    "df_zone['PULocationName'] = df_zone['Borough'] + '_' + df_zone['Zone']\n",
    "df_zone['DOLocationName'] = df_zone['Borough'] + '_' + df_zone['Zone']\n",
    "\n",
    "df_zone['PULocationID'] = df_zone['LocationID']\n",
    "df_zone['DOLocationID'] = df_zone['LocationID']\n",
    "\n",
    "df_PU = df_zone[['PULocationName', 'PULocationID']]\n",
    "df_DO = df_zone[['DOLocationName', 'DOLocationID']]"
   ]
  },
  {
   "cell_type": "code",
   "execution_count": 10,
   "metadata": {},
   "outputs": [],
   "source": [
    "df = df.merge(df_PU, how='left', on=['PULocationID'])\n",
    "df = df.merge(df_DO, how='left', on=['DOLocationID'])"
   ]
  },
  {
   "cell_type": "code",
   "execution_count": 12,
   "metadata": {},
   "outputs": [],
   "source": [
    "df_PU = df[['PULocationID', 'PULocationName']]\n",
    "df_DO = df[['DOLocationID', 'DOLocationName']]\n",
    "\n",
    "df_PU.to_csv(\"./data/PU.csv\", index=False)\n",
    "df_DO.to_csv(\"./data/DO.csv\", index=False)"
   ]
  },
  {
   "cell_type": "code",
   "execution_count": 43,
   "metadata": {},
   "outputs": [],
   "source": [
    "df_PU = pd.read_csv(\"./data/PU.csv\")\n",
    "df_DO = pd.read_csv(\"./data/DO.csv\")"
   ]
  },
  {
   "cell_type": "code",
   "execution_count": null,
   "metadata": {},
   "outputs": [],
   "source": [
    "## PULocationID ve DOLocationID leri isimleri ile eşleştir.\n",
    "## Streamlit ile bir arayüz yap.\n",
    "## Sonuçları PostgreSql le yaz.\n",
    "## Bu Sonuçları belki bir grafiğe dökebiliriz."
   ]
  }
 ],
 "metadata": {
  "kernelspec": {
   "display_name": "MLOps",
   "language": "python",
   "name": "python3"
  },
  "language_info": {
   "codemirror_mode": {
    "name": "ipython",
    "version": 3
   },
   "file_extension": ".py",
   "mimetype": "text/x-python",
   "name": "python",
   "nbconvert_exporter": "python",
   "pygments_lexer": "ipython3",
   "version": "3.8.2"
  },
  "orig_nbformat": 4
 },
 "nbformat": 4,
 "nbformat_minor": 2
}
